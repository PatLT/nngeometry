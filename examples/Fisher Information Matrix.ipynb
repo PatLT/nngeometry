{
 "cells": [
  {
   "cell_type": "code",
   "execution_count": 1,
   "metadata": {},
   "outputs": [],
   "source": [
    "import torch\n",
    "from torchvision import datasets, transforms\n",
    "from torch.utils.data import Subset\n",
    "import torch.nn as nn\n",
    "\n",
    "import matplotlib.pyplot as plt"
   ]
  },
  {
   "cell_type": "markdown",
   "metadata": {},
   "source": [
    "# 1. define your dataloader"
   ]
  },
  {
   "cell_type": "code",
   "execution_count": 2,
   "metadata": {},
   "outputs": [],
   "source": [
    "transform_list = transforms.Compose([transforms.ToTensor(),\n",
    "                                     transforms.Normalize(mean=[0.131], std=[0.289])])\n",
    "dataset = datasets.MNIST(root='/tmp/', train=True, download=True, transform=transform_list)\n",
    "dataset = Subset(dataset, range(2000))\n",
    "\n",
    "loader = torch.utils.data.DataLoader(\n",
    "      dataset=dataset,\n",
    "      batch_size=500,\n",
    "      shuffle=False)"
   ]
  },
  {
   "cell_type": "markdown",
   "metadata": {},
   "source": [
    "# 2. define your model"
   ]
  },
  {
   "cell_type": "code",
   "execution_count": 3,
   "metadata": {},
   "outputs": [],
   "source": [
    "class Flatten(nn.Module):\n",
    "    def forward(self, input):\n",
    "        return input.flatten(1)\n",
    "\n",
    "n_hidden = 2\n",
    "hidden_size = 10\n",
    "device = 'cuda'\n",
    "layers = [Flatten(), nn.Linear(28 * 28, hidden_size), nn.ReLU()] + \\\n",
    "         [nn.Linear(hidden_size, hidden_size), nn.ReLU()] * (n_hidden - 1) + \\\n",
    "         [nn.Linear(hidden_size, 10), nn.LogSoftmax(dim=1)]\n",
    "model = nn.Sequential(*layers).to(device)"
   ]
  },
  {
   "cell_type": "markdown",
   "metadata": {},
   "source": [
    "# 3. define your loss function\n",
    "For this example here we will compute the MC-sampled Fisher Information Matrix using only 1 sample for each example."
   ]
  },
  {
   "cell_type": "code",
   "execution_count": 4,
   "metadata": {},
   "outputs": [],
   "source": [
    "def loss_fim_mc_estimate(input, target):\n",
    "    log_sm = model(input)\n",
    "    probs = torch.exp(log_sm)\n",
    "    random_target = torch.multinomial(probs, 1)\n",
    "    random_log_sm = torch.gather(log_sm, 1, random_target)\n",
    "    return random_log_sm.sum()"
   ]
  },
  {
   "cell_type": "markdown",
   "metadata": {},
   "source": [
    "# 4. create your generator"
   ]
  },
  {
   "cell_type": "code",
   "execution_count": 5,
   "metadata": {},
   "outputs": [
    {
     "name": "stdout",
     "output_type": "stream",
     "text": [
      "8070 parameters\n"
     ]
    }
   ],
   "source": [
    "from nngeometry.pspace import L2Loss\n",
    "\n",
    "l2_generator = L2Loss(model=model, dataloader=loader, loss_closure=loss_fim_mc_estimate)\n",
    "n_parameters = l2_generator.get_n_parameters()\n",
    "print(str(n_parameters) + ' parameters')"
   ]
  },
  {
   "cell_type": "markdown",
   "metadata": {},
   "source": [
    "# 5. choose a representation\n",
    "\n",
    "# 5.1 DenseMatrix representation"
   ]
  },
  {
   "cell_type": "code",
   "execution_count": 6,
   "metadata": {},
   "outputs": [],
   "source": [
    "from nngeometry.representations import DenseMatrix\n",
    "\n",
    "F_dense = DenseMatrix(l2_generator)\n",
    "F = F_dense.get_matrix()"
   ]
  },
  {
   "cell_type": "markdown",
   "metadata": {},
   "source": [
    "display the end of the FIM (corresponding to the last layer)"
   ]
  },
  {
   "cell_type": "code",
   "execution_count": 7,
   "metadata": {},
   "outputs": [
    {
     "data": {
      "text/plain": [
       "<matplotlib.image.AxesImage at 0x7f87ac3b8b00>"
      ]
     },
     "execution_count": 7,
     "metadata": {},
     "output_type": "execute_result"
    },
    {
     "data": {
      "image/png": "[encoded data removed]",
      "text/plain": [
       "<Figure size 432x288 with 1 Axes>"
      ]
     },
     "metadata": {
      "needs_background": "light"
     },
     "output_type": "display_data"
    }
   ],
   "source": [
    "plt.imshow(torch.abs(F)[-100:,-100:].cpu())"
   ]
  },
  {
   "cell_type": "markdown",
   "metadata": {},
   "source": [
    "display the top 50 eigenvalues (eigenvalues are computed using symeig by default so they are in increasing order)"
   ]
  },
  {
   "cell_type": "code",
   "execution_count": 8,
   "metadata": {},
   "outputs": [],
   "source": [
    "F_dense.compute_eigendecomposition()\n",
    "evals, evecs = F_dense.get_eigendecomposition()"
   ]
  },
  {
   "cell_type": "code",
   "execution_count": 9,
   "metadata": {},
   "outputs": [
    {
     "data": {
      "text/plain": [
       "Text(0, 0.5, 'eigenvalue')"
      ]
     },
     "execution_count": 9,
     "metadata": {},
     "output_type": "execute_result"
    },
    {
     "data": {
      "image/png": "[encoded data removed]",
      "text/plain": [
       "<Figure size 432x288 with 1 Axes>"
      ]
     },
     "metadata": {
      "needs_background": "light"
     },
     "output_type": "display_data"
    }
   ],
   "source": [
    "plt.plot(evals[-50:].cpu().numpy()[::-1], marker='x', linestyle=\"None\")\n",
    "plt.xlabel('eigenvalue rank')\n",
    "plt.ylabel('eigenvalue')"
   ]
  },
  {
   "cell_type": "markdown",
   "metadata": {},
   "source": [
    "compute $\\sqrt{\\mathbf{v}^\\top F \\mathbf{v}}$ for a random vector $\\mathbf{v}$"
   ]
  },
  {
   "cell_type": "code",
   "execution_count": 10,
   "metadata": {},
   "outputs": [
    {
     "name": "stdout",
     "output_type": "stream",
     "text": [
      "tensor(7.5154, device='cuda:0')\n"
     ]
    }
   ],
   "source": [
    "from nngeometry.vector import Vector\n",
    "\n",
    "v_flat = torch.rand((n_parameters)).to(device)\n",
    "\n",
    "v = Vector(model, vector_repr=v_flat)\n",
    "print(F_dense.m_norm(v))"
   ]
  },
  {
   "cell_type": "markdown",
   "metadata": {},
   "source": [
    "compute the trace and frobenius norm of $F$"
   ]
  },
  {
   "cell_type": "code",
   "execution_count": 11,
   "metadata": {},
   "outputs": [
    {
     "name": "stdout",
     "output_type": "stream",
     "text": [
      "tensor(12.0876, device='cuda:0') tensor(2.2273, device='cuda:0')\n"
     ]
    }
   ],
   "source": [
    "print(F_dense.trace(), F_dense.frobenius_norm())"
   ]
  },
  {
   "cell_type": "markdown",
   "metadata": {},
   "source": [
    "in the DenseMatrix representation the matrix is evaluated once at initialization, and so several calls to the same function will result in the same value, even in the current case where we only get a MC estimator, and not a deterministic formula:"
   ]
  },
  {
   "cell_type": "code",
   "execution_count": 12,
   "metadata": {},
   "outputs": [
    {
     "name": "stdout",
     "output_type": "stream",
     "text": [
      "tensor(12.0876, device='cuda:0') tensor(12.0876, device='cuda:0')\n"
     ]
    }
   ],
   "source": [
    "print(F_dense.trace(), F_dense.trace())"
   ]
  },
  {
   "cell_type": "markdown",
   "metadata": {},
   "source": [
    "# 5.2 ImplicitMatrix representation\n",
    "\n",
    "In this representation the matrix is never computed or stored in memory but instead the operations are performed implicitly. This allows to compute e.g. $\\sqrt{\\mathbf{v}^\\top F \\mathbf{v}}$ where $F$ would be too large to store in memory."
   ]
  },
  {
   "cell_type": "code",
   "execution_count": 13,
   "metadata": {},
   "outputs": [],
   "source": [
    "from nngeometry.representations import ImplicitMatrix\n",
    "\n",
    "F_implicit = ImplicitMatrix(l2_generator)"
   ]
  },
  {
   "cell_type": "code",
   "execution_count": 14,
   "metadata": {},
   "outputs": [
    {
     "name": "stdout",
     "output_type": "stream",
     "text": [
      "tensor(7.3260, device='cuda:0') tensor(11.9335, device='cuda:0')\n"
     ]
    }
   ],
   "source": [
    "print(F_implicit.m_norm(v), F_implicit.trace())"
   ]
  },
  {
   "cell_type": "markdown",
   "metadata": {},
   "source": [
    "note that in the case of a Monte Carlo estimate of the FIM, and contrary to the DenseMatrix representation, here several calls to the same function can result in different estimates. This is because each function call will loop through all examples and compute the loss by sampling from the model, contrary to the DenseMatrix representation where the matrix is computed only once at init."
   ]
  },
  {
   "cell_type": "code",
   "execution_count": 15,
   "metadata": {},
   "outputs": [
    {
     "name": "stdout",
     "output_type": "stream",
     "text": [
      "tensor(12.2205, device='cuda:0') tensor(11.8498, device='cuda:0')\n"
     ]
    }
   ],
   "source": [
    "print(F_implicit.trace(), F_implicit.trace())"
   ]
  },
  {
   "cell_type": "markdown",
   "metadata": {},
   "source": [
    "# 5.3 KFACMatrix representation"
   ]
  },
  {
   "cell_type": "code",
   "execution_count": 16,
   "metadata": {},
   "outputs": [],
   "source": [
    "from nngeometry.representations import KFACMatrix\n",
    "\n",
    "F_kfac = KFACMatrix(l2_generator)"
   ]
  },
  {
   "cell_type": "markdown",
   "metadata": {},
   "source": [
    "display the end of the FIM (corresponding to the last layer)"
   ]
  },
  {
   "cell_type": "code",
   "execution_count": 17,
   "metadata": {},
   "outputs": [
    {
     "data": {
      "text/plain": [
       "<matplotlib.image.AxesImage at 0x7f87ac1807b8>"
      ]
     },
     "execution_count": 17,
     "metadata": {},
     "output_type": "execute_result"
    },
    {
     "data": {
      "image/png": "[encoded data removed]",
      "text/plain": [
       "<Figure size 432x288 with 1 Axes>"
      ]
     },
     "metadata": {
      "needs_background": "light"
     },
     "output_type": "display_data"
    }
   ],
   "source": [
    "plt.imshow(torch.abs(F_kfac.get_matrix(split_weight_bias=True))[-100:,-100:].cpu())"
   ]
  },
  {
   "cell_type": "markdown",
   "metadata": {},
   "source": [
    "compute $\\sqrt{\\mathbf{v}^\\top F \\mathbf{v}}$ for a random vector $\\mathbf{v}$. Note the slight difference with the DenseMatrix above since KFAC is an approximation"
   ]
  },
  {
   "cell_type": "code",
   "execution_count": 18,
   "metadata": {},
   "outputs": [
    {
     "name": "stdout",
     "output_type": "stream",
     "text": [
      "tensor(8.0206, device='cuda:0')\n"
     ]
    }
   ],
   "source": [
    "print(F_kfac.m_norm(v))"
   ]
  },
  {
   "cell_type": "code",
   "execution_count": 19,
   "metadata": {},
   "outputs": [
    {
     "name": "stdout",
     "output_type": "stream",
     "text": [
      "tensor(12.1591, device='cuda:0')\n"
     ]
    }
   ],
   "source": [
    "print(F_kfac.trace())"
   ]
  }
 ],
 "metadata": {
  "kernelspec": {
   "display_name": "Python 3",
   "language": "python",
   "name": "python3"
  },
  "language_info": {
   "codemirror_mode": {
    "name": "ipython",
    "version": 3
   },
   "file_extension": ".py",
   "mimetype": "text/x-python",
   "name": "python",
   "nbconvert_exporter": "python",
   "pygments_lexer": "ipython3",
   "version": "3.7.2"
  }
 },
 "nbformat": 4,
 "nbformat_minor": 4
}
