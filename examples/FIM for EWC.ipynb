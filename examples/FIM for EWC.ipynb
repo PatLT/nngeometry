{
 "cells": [
  {
   "cell_type": "code",
   "execution_count": 1,
   "metadata": {},
   "outputs": [],
   "source": [
    "import torch\n",
    "from torchvision import datasets, transforms\n",
    "from torch.utils.data import Subset\n",
    "import torch.nn as nn\n",
    "\n",
    "import matplotlib.pyplot as plt"
   ]
  },
  {
   "cell_type": "markdown",
   "metadata": {},
   "source": [
    "# 1. define your dataloader"
   ]
  },
  {
   "cell_type": "code",
   "execution_count": 2,
   "metadata": {},
   "outputs": [],
   "source": [
    "transform_list = transforms.Compose([transforms.ToTensor(),\n",
    "                                     transforms.Normalize(mean=[0.131], std=[0.289])])\n",
    "dataset = datasets.MNIST(root='/tmp/', train=True, download=True, transform=transform_list)\n",
    "dataset = Subset(dataset, range(2000))\n",
    "\n",
    "loader = torch.utils.data.DataLoader(\n",
    "      dataset=dataset,\n",
    "      batch_size=500,\n",
    "      shuffle=False)"
   ]
  },
  {
   "cell_type": "markdown",
   "metadata": {},
   "source": [
    "# 2. define your model"
   ]
  },
  {
   "cell_type": "code",
   "execution_count": 3,
   "metadata": {},
   "outputs": [],
   "source": [
    "class Flatten(nn.Module):\n",
    "    def forward(self, input):\n",
    "        return input.flatten(1)\n",
    "\n",
    "n_hidden = 2\n",
    "hidden_size = 10\n",
    "device = 'cuda'\n",
    "layers = [Flatten(), nn.Linear(28 * 28, hidden_size), nn.ReLU()] + \\\n",
    "         [nn.Linear(hidden_size, hidden_size), nn.ReLU()] * (n_hidden - 1) + \\\n",
    "         [nn.Linear(hidden_size, 10), nn.LogSoftmax(dim=1)]\n",
    "model = nn.Sequential(*layers).to(device)"
   ]
  },
  {
   "cell_type": "markdown",
   "metadata": {},
   "source": [
    "# 3. define your layer collection\n",
    "The `LayerCollection` object defines the structure of the vectors that you will be manipulating. For example if you are interested in computing the FIM for the parameters of the first 2 layers, it will map these parameters to the part of the FIM that corresponds to these parameters."
   ]
  },
  {
   "cell_type": "code",
   "execution_count": 4,
   "metadata": {},
   "outputs": [],
   "source": [
    "from nngeometry.layercollection import LayerCollection\n",
    "\n",
    "layer_collection = LayerCollection.from_model(model)"
   ]
  },
  {
   "cell_type": "markdown",
   "metadata": {},
   "source": [
    "# EWC penalty\n",
    "\n",
    "We now compute the matrices coefficients using the generator above. Using different representations we get different performances, and also we use more or less memory. But low memory footprint comes at the price of a less accurate approximation of the FIM, and so the gradient that we get from the penalty can be drastically different."
   ]
  },
  {
   "cell_type": "code",
   "execution_count": 5,
   "metadata": {},
   "outputs": [],
   "source": [
    "from nngeometry.object.pspace import PSpaceKFAC, PSpaceDiag, PSpaceBlockDiag, PSpaceDense\n",
    "from nngeometry.object.vector import PVector\n",
    "from nngeometry.metrics import FIM"
   ]
  },
  {
   "cell_type": "markdown",
   "metadata": {},
   "source": [
    "Suppose we now train our model on task 1. We want to store the current state of the network using:\n",
    " 1. the current parameter values `v1`\n",
    " 2. the current Fisher Information Matrix `F_XXX`"
   ]
  },
  {
   "cell_type": "code",
   "execution_count": 6,
   "metadata": {},
   "outputs": [],
   "source": [
    "v1 = PVector.from_model(model).clone().detach()\n",
    "\n",
    "F_kfac = FIM(layer_collection=layer_collection,\n",
    "             model=model,\n",
    "             loader=loader,\n",
    "             representation=PSpaceKFAC,\n",
    "             n_output=10,\n",
    "             variant='classif_logits',\n",
    "             device='cuda')\n",
    "\n",
    "F_blockdiag = FIM(layer_collection=layer_collection,\n",
    "                  model=model,\n",
    "                  loader=loader,\n",
    "                  representation=PSpaceBlockDiag,\n",
    "                  n_output=10,\n",
    "                  variant='classif_logits',\n",
    "                  device='cuda')\n",
    "\n",
    "F_dense = FIM(layer_collection=layer_collection,\n",
    "             model=model,\n",
    "             loader=loader,\n",
    "             representation=PSpaceDense,\n",
    "             n_output=10,\n",
    "             variant='classif_logits',\n",
    "             device='cuda')\n",
    "\n",
    "\n",
    "F_diag = FIM(layer_collection=layer_collection,\n",
    "             model=model,\n",
    "             loader=loader,\n",
    "             representation=PSpaceDiag,\n",
    "             n_output=10,\n",
    "             variant='classif_logits',\n",
    "             device='cuda')"
   ]
  },
  {
   "cell_type": "code",
   "execution_count": 7,
   "metadata": {},
   "outputs": [],
   "source": [
    "n_parameters = layer_collection.numel()"
   ]
  },
  {
   "cell_type": "markdown",
   "metadata": {},
   "source": [
    "We can now continue training, using an additional regularizer term, that uses the FIM and the difference betweem the current parameter value and `v1`"
   ]
  },
  {
   "cell_type": "code",
   "execution_count": 8,
   "metadata": {},
   "outputs": [],
   "source": [
    "v_current = PVector.from_model(model)"
   ]
  },
  {
   "cell_type": "markdown",
   "metadata": {},
   "source": [
    "you can now compute a regularizer scalar object and backward through it"
   ]
  },
  {
   "cell_type": "code",
   "execution_count": 9,
   "metadata": {},
   "outputs": [
    {
     "data": {
      "text/plain": [
       "[(torch.Size([10, 784]),\n",
       "  tensor([[0., 0., 0.,  ..., 0., 0., 0.],\n",
       "          [0., 0., 0.,  ..., 0., 0., 0.],\n",
       "          [0., 0., 0.,  ..., 0., 0., 0.],\n",
       "          ...,\n",
       "          [0., 0., 0.,  ..., 0., 0., 0.],\n",
       "          [0., 0., 0.,  ..., 0., 0., 0.],\n",
       "          [0., 0., 0.,  ..., 0., 0., 0.]], device='cuda:0')),\n",
       " (torch.Size([10]),\n",
       "  tensor([0., 0., 0., 0., 0., 0., 0., 0., 0., 0.], device='cuda:0')),\n",
       " (torch.Size([10, 10]),\n",
       "  tensor([[0., 0., 0., 0., 0., 0., 0., 0., 0., 0.],\n",
       "          [0., 0., 0., 0., 0., 0., 0., 0., 0., 0.],\n",
       "          [0., 0., 0., 0., 0., 0., 0., 0., 0., 0.],\n",
       "          [0., 0., 0., 0., 0., 0., 0., 0., 0., 0.],\n",
       "          [0., 0., 0., 0., 0., 0., 0., 0., 0., 0.],\n",
       "          [0., 0., 0., 0., 0., 0., 0., 0., 0., 0.],\n",
       "          [0., 0., 0., 0., 0., 0., 0., 0., 0., 0.],\n",
       "          [0., 0., 0., 0., 0., 0., 0., 0., 0., 0.],\n",
       "          [0., 0., 0., 0., 0., 0., 0., 0., 0., 0.],\n",
       "          [0., 0., 0., 0., 0., 0., 0., 0., 0., 0.]], device='cuda:0')),\n",
       " (torch.Size([10]),\n",
       "  tensor([0., 0., 0., 0., 0., 0., 0., 0., 0., 0.], device='cuda:0')),\n",
       " (torch.Size([10, 10]),\n",
       "  tensor([[0., 0., 0., 0., 0., 0., 0., 0., 0., 0.],\n",
       "          [0., 0., 0., 0., 0., 0., 0., 0., 0., 0.],\n",
       "          [0., 0., 0., 0., 0., 0., 0., 0., 0., 0.],\n",
       "          [0., 0., 0., 0., 0., 0., 0., 0., 0., 0.],\n",
       "          [0., 0., 0., 0., 0., 0., 0., 0., 0., 0.],\n",
       "          [0., 0., 0., 0., 0., 0., 0., 0., 0., 0.],\n",
       "          [0., 0., 0., 0., 0., 0., 0., 0., 0., 0.],\n",
       "          [0., 0., 0., 0., 0., 0., 0., 0., 0., 0.],\n",
       "          [0., 0., 0., 0., 0., 0., 0., 0., 0., 0.],\n",
       "          [0., 0., 0., 0., 0., 0., 0., 0., 0., 0.]], device='cuda:0')),\n",
       " (torch.Size([10]),\n",
       "  tensor([0., 0., 0., 0., 0., 0., 0., 0., 0., 0.], device='cuda:0'))]"
      ]
     },
     "execution_count": 9,
     "metadata": {},
     "output_type": "execute_result"
    }
   ],
   "source": [
    "regularizer_dense = F_dense.vTMv(v_current - v1)\n",
    "regularizer_dense.backward()\n",
    "[(p.size(), p.grad) for p in model.parameters()]"
   ]
  },
  {
   "cell_type": "markdown",
   "metadata": {},
   "source": [
    "note that in this case all gradients stay at `0`, because `v_current = v1`, so for the purpose of this example, we will modify the value of `v_current`. You can think of this modification as resulting from SGD updates on the first iterations of training on task 2."
   ]
  },
  {
   "cell_type": "code",
   "execution_count": 10,
   "metadata": {},
   "outputs": [],
   "source": [
    "for p in model.parameters():\n",
    "    p.data.add_(torch.randn_like(p))"
   ]
  },
  {
   "cell_type": "markdown",
   "metadata": {},
   "source": [
    "We now recompute the gradients from the regularizer:"
   ]
  },
  {
   "cell_type": "code",
   "execution_count": 11,
   "metadata": {},
   "outputs": [
    {
     "data": {
      "text/plain": [
       "[(torch.Size([10, 784]),\n",
       "  tensor([[-0.0242, -0.0242, -0.0242,  ..., -0.0242, -0.0242, -0.0242],\n",
       "          [-0.0074, -0.0074, -0.0074,  ..., -0.0074, -0.0074, -0.0074],\n",
       "          [ 0.0056,  0.0056,  0.0056,  ...,  0.0056,  0.0056,  0.0056],\n",
       "          ...,\n",
       "          [-0.0138, -0.0138, -0.0138,  ..., -0.0138, -0.0138, -0.0138],\n",
       "          [-0.0185, -0.0185, -0.0185,  ..., -0.0185, -0.0185, -0.0185],\n",
       "          [-0.0098, -0.0098, -0.0098,  ..., -0.0098, -0.0098, -0.0098]],\n",
       "         device='cuda:0')),\n",
       " (torch.Size([10]),\n",
       "  tensor([ 0.0534,  0.0163, -0.0124,  0.0335, -0.0320, -0.2405, -0.0336,  0.0304,\n",
       "           0.0408,  0.0216], device='cuda:0')),\n",
       " (torch.Size([10, 10]),\n",
       "  tensor([[-6.1245e-02, -2.0642e-02,  1.4776e-03, -1.0974e-02, -4.9464e-02,\n",
       "           -2.7806e-01, -1.1235e-02, -7.2659e-02, -3.0267e-02, -1.2411e-02],\n",
       "          [-3.6544e-02, -1.4381e-02, -3.9167e-02, -6.2989e-03, -5.8668e-02,\n",
       "           -1.7170e-01,  2.5120e-03, -2.6166e-02, -6.9361e-03, -1.0992e-02],\n",
       "          [ 2.2006e-02,  9.4693e-04,  1.6668e-03,  2.9835e-03,  2.8691e-02,\n",
       "            5.6567e-02, -6.4356e-03,  1.5447e-02,  2.3871e-03,  9.5326e-04],\n",
       "          [ 7.5356e-04,  4.8599e-03,  7.0266e-03, -5.3167e-05,  8.1744e-03,\n",
       "            1.2659e-03, -1.7648e-02, -2.8184e-03, -1.0336e-03,  1.5308e-03],\n",
       "          [ 1.6387e-02,  2.5608e-03,  2.2353e-03,  2.3504e-03,  7.6791e-04,\n",
       "            5.9933e-02,  1.5265e-03,  2.8639e-02,  1.5431e-02,  6.6447e-04],\n",
       "          [ 3.2872e-02,  3.1046e-03,  3.6663e-03,  1.8005e-03,  6.1607e-03,\n",
       "            5.4395e-02,  2.7314e-03,  4.2003e-02,  3.7597e-03,  1.9167e-03],\n",
       "          [-6.8830e-02, -1.4491e-02, -2.5142e-02, -2.6657e-03, -4.5667e-02,\n",
       "           -2.8724e-01, -1.5611e-02, -6.3860e-02, -1.1822e-02, -7.6173e-03],\n",
       "          [ 4.6197e-03,  3.5615e-03,  1.4671e-02,  9.7758e-04,  2.0191e-03,\n",
       "            1.0583e-02,  7.5253e-04,  1.3501e-03,  2.4502e-04,  4.1717e-03],\n",
       "          [-1.4722e-03,  9.9835e-05, -2.6607e-03,  3.3816e-03, -2.9384e-02,\n",
       "           -3.1304e-02,  1.5800e-02,  8.6885e-03,  3.5936e-03,  8.5306e-04],\n",
       "          [-6.8825e-02, -2.1825e-02, -5.1848e-02, -7.5860e-03, -1.2695e-01,\n",
       "           -3.7578e-01,  1.0305e-02, -6.5479e-02, -1.9085e-02, -1.3601e-02]],\n",
       "         device='cuda:0')),\n",
       " (torch.Size([10]),\n",
       "  tensor([-0.2333, -0.1605,  0.0520,  0.0109,  0.0599,  0.0469, -0.1819,  0.0148,\n",
       "          -0.0089, -0.2869], device='cuda:0')),\n",
       " (torch.Size([10, 10]),\n",
       "  tensor([[ 2.5346e-01,  1.0712e-01,  1.0447e-02,  1.1221e-03,  1.1513e-03,\n",
       "            3.0564e-03,  4.5596e-02,  1.7655e-03,  9.2092e-02,  8.0456e-02],\n",
       "          [-2.0198e-01, -8.2845e-02, -1.3483e-02, -8.1372e-04, -1.1481e-02,\n",
       "           -3.7446e-03, -2.9843e-02, -2.5044e-03, -9.0685e-02, -5.4600e-02],\n",
       "          [-1.2507e-01, -4.3266e-02, -9.9767e-03, -2.0672e-04, -7.8857e-03,\n",
       "           -6.8654e-03, -1.8505e-02,  2.2521e-03, -3.8889e-02, -4.2013e-02],\n",
       "          [ 2.5997e-01,  1.0381e-01,  1.5604e-02, -6.2272e-04,  3.3727e-03,\n",
       "            3.9793e-03,  3.5259e-02,  7.2751e-04,  9.8869e-02,  7.4742e-02],\n",
       "          [ 8.1197e-02,  4.2235e-02,  5.6094e-03,  1.0750e-03,  2.3781e-03,\n",
       "            1.3888e-03,  9.9703e-03,  3.3410e-05,  2.8786e-02,  2.9505e-02],\n",
       "          [-2.2787e-01, -8.2858e-02, -1.6664e-02, -8.6785e-04, -9.7124e-03,\n",
       "           -6.8376e-03, -3.9958e-02, -1.7429e-04, -9.5920e-02, -6.8585e-02],\n",
       "          [-3.3393e-02, -2.8415e-02,  2.0088e-03,  2.3797e-03,  4.5724e-03,\n",
       "            2.5563e-03,  8.6471e-04, -4.3841e-04, -1.4815e-02, -1.3023e-02],\n",
       "          [ 1.6004e-01,  6.3488e-02,  1.5252e-02, -6.6070e-04,  1.7781e-02,\n",
       "            8.2411e-03,  1.7403e-02, -4.0160e-04,  8.3472e-02,  4.8122e-02],\n",
       "          [-2.2716e-01, -9.4354e-02, -1.3784e-02, -2.0035e-04, -8.7806e-03,\n",
       "           -5.9149e-03, -3.1793e-02, -1.0593e-05, -8.8360e-02, -7.2718e-02],\n",
       "          [ 6.0803e-02,  1.5090e-02,  4.9871e-03, -1.2047e-03,  8.6037e-03,\n",
       "            4.1407e-03,  1.1006e-02, -1.2492e-03,  2.5450e-02,  1.8114e-02]],\n",
       "         device='cuda:0')),\n",
       " (torch.Size([10]),\n",
       "  tensor([ 0.4059, -0.3961, -0.1955,  0.4634,  0.1450, -0.3702, -0.0956,  0.3386,\n",
       "          -0.4033,  0.1080], device='cuda:0'))]"
      ]
     },
     "execution_count": 11,
     "metadata": {},
     "output_type": "execute_result"
    }
   ],
   "source": [
    "regularizer_dense = F_dense.vTMv(v_current - v1)\n",
    "regularizer_dense.backward()\n",
    "[(p.size(), p.grad) for p in model.parameters()]"
   ]
  },
  {
   "cell_type": "markdown",
   "metadata": {},
   "source": [
    "# Comparison of regularization obtained using different representations"
   ]
  },
  {
   "cell_type": "code",
   "execution_count": 12,
   "metadata": {},
   "outputs": [],
   "source": [
    "model.zero_grad()\n",
    "regularizer_dense = F_dense.vTMv(v_current - v1)\n",
    "regularizer_dense.backward()\n",
    "g_dense = torch.cat([p.grad.view(-1) for p in model.parameters()])"
   ]
  },
  {
   "cell_type": "code",
   "execution_count": 13,
   "metadata": {},
   "outputs": [],
   "source": [
    "model.zero_grad()\n",
    "regularizer_bd = F_blockdiag.vTMv(v_current - v1)\n",
    "regularizer_bd.backward()\n",
    "g_bd = torch.cat([p.grad.view(-1) for p in model.parameters()])"
   ]
  },
  {
   "cell_type": "code",
   "execution_count": 14,
   "metadata": {},
   "outputs": [],
   "source": [
    "model.zero_grad()\n",
    "regularizer_kfac = F_kfac.vTMv(v_current - v1)\n",
    "regularizer_kfac.backward()\n",
    "g_kfac = torch.cat([p.grad.view(-1) for p in model.parameters()])"
   ]
  },
  {
   "cell_type": "code",
   "execution_count": 15,
   "metadata": {},
   "outputs": [],
   "source": [
    "model.zero_grad()\n",
    "regularizer_diag = F_diag.vTMv(v_current - v1)\n",
    "regularizer_diag.backward()\n",
    "g_diag = torch.cat([p.grad.view(-1) for p in model.parameters()])"
   ]
  },
  {
   "cell_type": "code",
   "execution_count": 16,
   "metadata": {},
   "outputs": [
    {
     "data": {
      "text/plain": [
       "Text(0.5, 1.0, 'Compare 100 elements of the gradient (first layer)')"
      ]
     },
     "execution_count": 16,
     "metadata": {},
     "output_type": "execute_result"
    },
    {
     "data": {
      "image/png": "[encoded data removed]",
      "text/plain": [
       "<Figure size 432x288 with 1 Axes>"
      ]
     },
     "metadata": {
      "needs_background": "light"
     },
     "output_type": "display_data"
    }
   ],
   "source": [
    "plt.plot(g_kfac[:100].cpu().numpy(), label='kfac')\n",
    "plt.plot(g_diag[:100].cpu().numpy(), label='diag')\n",
    "plt.plot(g_dense[:100].cpu().numpy(), label='dense')\n",
    "plt.plot(g_bd[:100].cpu().numpy(), label='block diagonal')\n",
    "plt.legend()\n",
    "plt.title('Compare 100 elements of the gradient (first layer)')"
   ]
  },
  {
   "cell_type": "code",
   "execution_count": 17,
   "metadata": {},
   "outputs": [
    {
     "data": {
      "text/plain": [
       "Text(0.5, 1.0, 'Compare 100 elements of the gradient (last layer)')"
      ]
     },
     "execution_count": 17,
     "metadata": {},
     "output_type": "execute_result"
    },
    {
     "data": {
      "image/png": "[encoded data removed]",
      "text/plain": [
       "<Figure size 432x288 with 1 Axes>"
      ]
     },
     "metadata": {
      "needs_background": "light"
     },
     "output_type": "display_data"
    }
   ],
   "source": [
    "plt.plot(g_kfac[-100:].cpu().numpy(), label='kfac')\n",
    "plt.plot(g_diag[-100:].cpu().numpy(), label='diag')\n",
    "plt.plot(g_dense[-100:].cpu().numpy(), label='dense')\n",
    "plt.plot(g_bd[-100:].cpu().numpy(), label='block diagonal')\n",
    "# plt.ylim(-.01, .01)\n",
    "plt.legend()\n",
    "plt.title('Compare 100 elements of the gradient (last layer)')"
   ]
  }
 ],
 "metadata": {
  "kernelspec": {
   "display_name": "pytenv",
   "language": "python",
   "name": "pytenv"
  },
  "language_info": {
   "codemirror_mode": {
    "name": "ipython",
    "version": 3
   },
   "file_extension": ".py",
   "mimetype": "text/x-python",
   "name": "python",
   "nbconvert_exporter": "python",
   "pygments_lexer": "ipython3",
   "version": "3.7.6"
  }
 },
 "nbformat": 4,
 "nbformat_minor": 4
}
