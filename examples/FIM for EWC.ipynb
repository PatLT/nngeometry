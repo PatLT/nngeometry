{
 "cells": [
  {
   "cell_type": "code",
   "execution_count": 1,
   "metadata": {},
   "outputs": [],
   "source": [
    "import torch\n",
    "from torchvision import datasets, transforms\n",
    "from torch.utils.data import Subset\n",
    "import torch.nn as nn\n",
    "\n",
    "import matplotlib.pyplot as plt"
   ]
  },
  {
   "cell_type": "markdown",
   "metadata": {},
   "source": [
    "# 1. define your dataloader"
   ]
  },
  {
   "cell_type": "code",
   "execution_count": 2,
   "metadata": {},
   "outputs": [],
   "source": [
    "transform_list = transforms.Compose([transforms.ToTensor(),\n",
    "                                     transforms.Normalize(mean=[0.131], std=[0.289])])\n",
    "dataset = datasets.MNIST(root='/tmp/', train=True, download=True, transform=transform_list)\n",
    "dataset = Subset(dataset, range(2000))\n",
    "\n",
    "loader = torch.utils.data.DataLoader(\n",
    "      dataset=dataset,\n",
    "      batch_size=500,\n",
    "      shuffle=False)"
   ]
  },
  {
   "cell_type": "markdown",
   "metadata": {},
   "source": [
    "# 2. define your model"
   ]
  },
  {
   "cell_type": "code",
   "execution_count": 3,
   "metadata": {},
   "outputs": [],
   "source": [
    "class Flatten(nn.Module):\n",
    "    def forward(self, input):\n",
    "        return input.flatten(1)\n",
    "\n",
    "n_hidden = 2\n",
    "hidden_size = 10\n",
    "device = 'cuda'\n",
    "layers = [Flatten(), nn.Linear(28 * 28, hidden_size), nn.ReLU()] + \\\n",
    "         [nn.Linear(hidden_size, hidden_size), nn.ReLU()] * (n_hidden - 1) + \\\n",
    "         [nn.Linear(hidden_size, 10), nn.LogSoftmax(dim=1)]\n",
    "model = nn.Sequential(*layers).to(device)"
   ]
  },
  {
   "cell_type": "markdown",
   "metadata": {},
   "source": [
    "# 3. define your layer collection\n",
    "The `LayerCollection` object defines the structure of the vectors that you will be manipulating. For example if you are interested in computing the FIM for the parameters of the first 2 layers, it will map these parameters to the part of the FIM that corresponds to these parameters."
   ]
  },
  {
   "cell_type": "code",
   "execution_count": 4,
   "metadata": {},
   "outputs": [],
   "source": [
    "from nngeometry.layercollection import LayerCollection\n",
    "\n",
    "layer_collection = LayerCollection.from_model(model)"
   ]
  },
  {
   "cell_type": "markdown",
   "metadata": {},
   "source": [
    "# EWC penalty\n",
    "\n",
    "We now compute the matrices coefficients using the generator above. Using different representations we get different performances, and also we use more or less memory. But low memory footprint comes at the price of a less accurate approximation of the FIM, and so the gradient that we get from the penalty can be drastically different."
   ]
  },
  {
   "cell_type": "code",
   "execution_count": 5,
   "metadata": {},
   "outputs": [],
   "source": [
    "from nngeometry.object.pspace import PSpaceKFAC, PSpaceDiag, PSpaceBlockDiag, PSpaceDense\n",
    "from nngeometry.object.vector import PVector\n",
    "from nngeometry.metrics import FIM"
   ]
  },
  {
   "cell_type": "markdown",
   "metadata": {},
   "source": [
    "Suppose we now train our model on task 1. We want to store the current state of the network using:\n",
    " 1. the current parameter values `v1`\n",
    " 2. the current Fisher Information Matrix `F_XXX`"
   ]
  },
  {
   "cell_type": "code",
   "execution_count": 6,
   "metadata": {},
   "outputs": [],
   "source": [
    "v1 = PVector.from_model(model).clone().detach()\n",
    "\n",
    "F_kfac = FIM(layer_collection=layer_collection,\n",
    "             model=model,\n",
    "             loader=loader,\n",
    "             representation=PSpaceKFAC,\n",
    "             n_output=10,\n",
    "             variant='classif_logits',\n",
    "             device='cuda')\n",
    "\n",
    "F_blockdiag = FIM(layer_collection=layer_collection,\n",
    "                  model=model,\n",
    "                  loader=loader,\n",
    "                  representation=PSpaceBlockDiag,\n",
    "                  n_output=10,\n",
    "                  variant='classif_logits',\n",
    "                  device='cuda')\n",
    "\n",
    "F_dense = FIM(layer_collection=layer_collection,\n",
    "             model=model,\n",
    "             loader=loader,\n",
    "             representation=PSpaceDense,\n",
    "             n_output=10,\n",
    "             variant='classif_logits',\n",
    "             device='cuda')\n",
    "\n",
    "\n",
    "F_diag = FIM(layer_collection=layer_collection,\n",
    "             model=model,\n",
    "             loader=loader,\n",
    "             representation=PSpaceDiag,\n",
    "             n_output=10,\n",
    "             variant='classif_logits',\n",
    "             device='cuda')"
   ]
  },
  {
   "cell_type": "code",
   "execution_count": 7,
   "metadata": {},
   "outputs": [],
   "source": [
    "n_parameters = layer_collection.numel()"
   ]
  },
  {
   "cell_type": "markdown",
   "metadata": {},
   "source": [
    "We can now continue training, using an additional regularizer term, that uses the FIM and the difference betweem the current parameter value and `v1`"
   ]
  },
  {
   "cell_type": "code",
   "execution_count": 8,
   "metadata": {},
   "outputs": [],
   "source": [
    "v_current = PVector.from_model(model)"
   ]
  },
  {
   "cell_type": "markdown",
   "metadata": {},
   "source": [
    "you can now compute a regularizer scalar object and backward through it"
   ]
  },
  {
   "cell_type": "code",
   "execution_count": 9,
   "metadata": {},
   "outputs": [
    {
     "data": {
      "text/plain": [
       "[(torch.Size([10, 784]),\n",
       "  tensor([[0., 0., 0.,  ..., 0., 0., 0.],\n",
       "          [0., 0., 0.,  ..., 0., 0., 0.],\n",
       "          [0., 0., 0.,  ..., 0., 0., 0.],\n",
       "          ...,\n",
       "          [0., 0., 0.,  ..., 0., 0., 0.],\n",
       "          [0., 0., 0.,  ..., 0., 0., 0.],\n",
       "          [0., 0., 0.,  ..., 0., 0., 0.]], device='cuda:0')),\n",
       " (torch.Size([10]),\n",
       "  tensor([0., 0., 0., 0., 0., 0., 0., 0., 0., 0.], device='cuda:0')),\n",
       " (torch.Size([10, 10]),\n",
       "  tensor([[0., 0., 0., 0., 0., 0., 0., 0., 0., 0.],\n",
       "          [0., 0., 0., 0., 0., 0., 0., 0., 0., 0.],\n",
       "          [0., 0., 0., 0., 0., 0., 0., 0., 0., 0.],\n",
       "          [0., 0., 0., 0., 0., 0., 0., 0., 0., 0.],\n",
       "          [0., 0., 0., 0., 0., 0., 0., 0., 0., 0.],\n",
       "          [0., 0., 0., 0., 0., 0., 0., 0., 0., 0.],\n",
       "          [0., 0., 0., 0., 0., 0., 0., 0., 0., 0.],\n",
       "          [0., 0., 0., 0., 0., 0., 0., 0., 0., 0.],\n",
       "          [0., 0., 0., 0., 0., 0., 0., 0., 0., 0.],\n",
       "          [0., 0., 0., 0., 0., 0., 0., 0., 0., 0.]], device='cuda:0')),\n",
       " (torch.Size([10]),\n",
       "  tensor([0., 0., 0., 0., 0., 0., 0., 0., 0., 0.], device='cuda:0')),\n",
       " (torch.Size([10, 10]),\n",
       "  tensor([[0., 0., 0., 0., 0., 0., 0., 0., 0., 0.],\n",
       "          [0., 0., 0., 0., 0., 0., 0., 0., 0., 0.],\n",
       "          [0., 0., 0., 0., 0., 0., 0., 0., 0., 0.],\n",
       "          [0., 0., 0., 0., 0., 0., 0., 0., 0., 0.],\n",
       "          [0., 0., 0., 0., 0., 0., 0., 0., 0., 0.],\n",
       "          [0., 0., 0., 0., 0., 0., 0., 0., 0., 0.],\n",
       "          [0., 0., 0., 0., 0., 0., 0., 0., 0., 0.],\n",
       "          [0., 0., 0., 0., 0., 0., 0., 0., 0., 0.],\n",
       "          [0., 0., 0., 0., 0., 0., 0., 0., 0., 0.],\n",
       "          [0., 0., 0., 0., 0., 0., 0., 0., 0., 0.]], device='cuda:0')),\n",
       " (torch.Size([10]),\n",
       "  tensor([0., 0., 0., 0., 0., 0., 0., 0., 0., 0.], device='cuda:0'))]"
      ]
     },
     "execution_count": 9,
     "metadata": {},
     "output_type": "execute_result"
    }
   ],
   "source": [
    "regularizer_dense = F_dense.vTMv(v_current - v1)\n",
    "regularizer_dense.backward()\n",
    "[(p.size(), p.grad) for p in model.parameters()]"
   ]
  },
  {
   "cell_type": "markdown",
   "metadata": {},
   "source": [
    "note that in this case all gradients stay at `0`, because `v_current = v1`, so for the purpose of this example, we will modify the value of `v_current`. You can think of this modification as resulting from SGD updates on the first iterations of training on task 2."
   ]
  },
  {
   "cell_type": "code",
   "execution_count": 10,
   "metadata": {},
   "outputs": [],
   "source": [
    "for p in model.parameters():\n",
    "    p.data.add_(torch.randn_like(p))"
   ]
  },
  {
   "cell_type": "markdown",
   "metadata": {},
   "source": [
    "We now recompute the gradients from the regularizer:"
   ]
  },
  {
   "cell_type": "code",
   "execution_count": 11,
   "metadata": {},
   "outputs": [
    {
     "data": {
      "text/plain": [
       "[(torch.Size([10, 784]),\n",
       "  tensor([[ 0.0124,  0.0124,  0.0124,  ...,  0.0124,  0.0124,  0.0124],\n",
       "          [-0.0827, -0.0827, -0.0827,  ..., -0.0827, -0.0827, -0.0827],\n",
       "          [ 0.1334,  0.1334,  0.1334,  ...,  0.1334,  0.1334,  0.1334],\n",
       "          ...,\n",
       "          [ 0.0092,  0.0092,  0.0092,  ...,  0.0092,  0.0092,  0.0092],\n",
       "          [-0.0317, -0.0317, -0.0317,  ..., -0.0317, -0.0317, -0.0317],\n",
       "          [-0.0154, -0.0154, -0.0154,  ..., -0.0154, -0.0154, -0.0154]],\n",
       "         device='cuda:0')),\n",
       " (torch.Size([10]),\n",
       "  tensor([-0.0274,  0.1824, -0.2943,  0.0058, -0.0512, -0.0159,  0.3383, -0.0202,\n",
       "           0.0700,  0.0341], device='cuda:0')),\n",
       " (torch.Size([10, 10]),\n",
       "  tensor([[-2.8371e-06,  7.8978e-04,  1.7014e-04,  2.4919e-06,  1.7188e-05,\n",
       "            3.6355e-05,  1.7218e-04, -2.9145e-05, -5.3682e-06,  5.5882e-04],\n",
       "          [-3.8591e-04, -9.6462e-04, -1.6214e-02, -2.9589e-05, -6.7283e-04,\n",
       "           -2.0525e-02, -8.7969e-04, -1.3166e-03, -7.1446e-04, -7.3758e-03],\n",
       "          [ 0.0000e+00,  1.5512e-05,  9.6514e-06, -3.4789e-04,  0.0000e+00,\n",
       "           -3.4724e-04,  9.3389e-05, -6.1585e-06,  1.0136e-05, -6.5350e-05],\n",
       "          [-4.0105e-05,  1.2547e-04, -1.5720e-02, -9.6212e-05,  2.8967e-03,\n",
       "           -5.2739e-03,  5.6725e-03, -1.2512e-02,  2.6902e-03, -7.3315e-03],\n",
       "          [-1.7722e-02, -1.0726e-01, -2.2025e-01, -1.0924e-03, -1.8816e-02,\n",
       "           -5.2119e-02, -7.3260e-02, -3.6470e-01, -4.0775e-02, -7.8087e-02],\n",
       "          [ 4.1837e-03,  9.3674e-02,  1.4024e-01,  2.6888e-03,  1.9731e-02,\n",
       "            7.2515e-02,  7.4263e-02,  1.7036e-01, -9.2580e-03,  3.9619e-02],\n",
       "          [ 1.2595e-02,  4.4428e-02,  5.8632e-02,  3.5613e-03,  1.1003e-02,\n",
       "            1.5166e-02,  6.9788e-02,  1.9042e-01,  2.9607e-02,  2.6781e-02],\n",
       "          [-1.0533e-02, -8.6571e-02, -1.6663e-01, -6.2072e-04, -5.5913e-03,\n",
       "           -1.3430e-01, -2.9466e-02, -1.4079e-01, -1.6370e-02, -4.0207e-02],\n",
       "          [ 0.0000e+00,  6.7546e-04,  1.1543e-04,  0.0000e+00,  1.5122e-04,\n",
       "            9.4246e-05,  3.8765e-06,  8.1703e-05,  0.0000e+00,  3.4658e-04],\n",
       "          [ 3.2437e-02,  2.3742e-01,  3.7124e-01,  6.1810e-03,  4.6316e-02,\n",
       "            2.2695e-01,  1.9230e-01,  5.2312e-01,  7.4085e-02,  1.3668e-01]],\n",
       "         device='cuda:0')),\n",
       " (torch.Size([10]),\n",
       "  tensor([ 3.5277e-04, -2.4435e-02, -1.9197e-04, -1.0525e-02, -3.5605e-01,\n",
       "           2.8895e-01,  1.5921e-01, -2.9165e-01,  5.1776e-04,  8.1571e-01],\n",
       "         device='cuda:0')),\n",
       " (torch.Size([10, 10]),\n",
       "  tensor([[ 1.1051e-04,  1.0553e-03,  1.8166e-04,  8.0119e-02,  5.3895e-02,\n",
       "            1.4252e-01,  2.6055e-02,  4.0322e-02,  1.0906e-04,  2.0703e-01],\n",
       "          [-5.4770e-05, -9.2535e-04, -1.1327e-04, -1.1058e-01, -1.0373e-01,\n",
       "           -2.1830e-01, -3.7285e-02, -5.9119e-02,  1.0781e-05, -2.6186e-01],\n",
       "          [-8.3861e-05,  3.5048e-04,  6.8231e-05,  3.1417e-02,  4.9650e-02,\n",
       "            9.0428e-02,  1.5018e-02,  2.4974e-02, -9.4725e-05,  8.5047e-02],\n",
       "          [-1.2708e-05, -3.4403e-04, -7.8397e-05, -4.3907e-03,  5.0107e-02,\n",
       "            9.3923e-02,  2.7785e-02, -1.0830e-02, -6.2858e-06, -6.5488e-04],\n",
       "          [ 1.8818e-05, -2.8283e-04, -1.6228e-04, -1.2851e-02, -5.1303e-03,\n",
       "           -2.1678e-02, -7.9908e-04, -1.4135e-02, -1.0808e-05, -3.3252e-02],\n",
       "          [ 7.0268e-05,  6.7231e-04,  1.0598e-04,  1.0365e-01,  3.5848e-02,\n",
       "            9.5407e-02,  5.3349e-03,  4.6069e-02, -1.1574e-05,  2.0288e-01],\n",
       "          [ 8.9757e-05, -2.7558e-04,  6.8932e-06, -1.6693e-02, -2.1256e-02,\n",
       "           -1.2247e-02,  7.1945e-03, -1.7356e-02,  8.0484e-05, -1.7055e-02],\n",
       "          [-6.0262e-05, -2.2195e-04,  6.2201e-05, -4.6528e-02, -4.3744e-02,\n",
       "           -1.0752e-01, -2.8638e-02, -1.1296e-02, -1.6707e-05, -1.1848e-01],\n",
       "          [-8.0434e-05, -2.4603e-04, -1.1111e-04, -3.2774e-02, -4.2721e-03,\n",
       "           -4.9949e-02, -1.0844e-02, -3.2778e-03, -6.2776e-05, -8.9420e-02],\n",
       "          [ 2.6780e-06,  2.1764e-04,  4.0086e-05,  8.6282e-03, -1.1364e-02,\n",
       "           -1.2583e-02, -3.8213e-03,  4.6495e-03,  2.5543e-06,  2.5767e-02]],\n",
       "         device='cuda:0')),\n",
       " (torch.Size([10]),\n",
       "  tensor([ 0.7483, -1.0382,  0.3739,  0.0679, -0.1221,  0.7246, -0.1459, -0.4197,\n",
       "          -0.2549,  0.0661], device='cuda:0'))]"
      ]
     },
     "execution_count": 11,
     "metadata": {},
     "output_type": "execute_result"
    }
   ],
   "source": [
    "regularizer_dense = F_dense.vTMv(v_current - v1)\n",
    "regularizer_dense.backward()\n",
    "[(p.size(), p.grad) for p in model.parameters()]"
   ]
  },
  {
   "cell_type": "markdown",
   "metadata": {},
   "source": [
    "# Comparison of regularization obtained using different representations"
   ]
  },
  {
   "cell_type": "code",
   "execution_count": 12,
   "metadata": {},
   "outputs": [],
   "source": [
    "model.zero_grad()\n",
    "regularizer_dense = F_dense.vTMv(v_current - v1)\n",
    "regularizer_dense.backward()\n",
    "g_dense = torch.cat([p.grad.view(-1) for p in model.parameters()])"
   ]
  },
  {
   "cell_type": "code",
   "execution_count": 13,
   "metadata": {},
   "outputs": [],
   "source": [
    "model.zero_grad()\n",
    "regularizer_bd = F_blockdiag.vTMv(v_current - v1)\n",
    "regularizer_bd.backward()\n",
    "g_bd = torch.cat([p.grad.view(-1) for p in model.parameters()])"
   ]
  },
  {
   "cell_type": "code",
   "execution_count": 14,
   "metadata": {},
   "outputs": [],
   "source": [
    "model.zero_grad()\n",
    "regularizer_kfac = F_kfac.vTMv(v_current - v1)\n",
    "regularizer_kfac.backward()\n",
    "g_kfac = torch.cat([p.grad.view(-1) for p in model.parameters()])"
   ]
  },
  {
   "cell_type": "code",
   "execution_count": 15,
   "metadata": {},
   "outputs": [],
   "source": [
    "model.zero_grad()\n",
    "regularizer_diag = F_diag.vTMv(v_current - v1)\n",
    "regularizer_diag.backward()\n",
    "g_diag = torch.cat([p.grad.view(-1) for p in model.parameters()])"
   ]
  },
  {
   "cell_type": "code",
   "execution_count": 16,
   "metadata": {},
   "outputs": [
    {
     "data": {
      "text/plain": [
       "Text(0.5, 1.0, 'Compare 100 elements of the gradient (first layer)')"
      ]
     },
     "execution_count": 16,
     "metadata": {},
     "output_type": "execute_result"
    },
    {
     "data": {
      "image/png": "[encoded data removed]",
      "text/plain": [
       "<Figure size 432x288 with 1 Axes>"
      ]
     },
     "metadata": {
      "needs_background": "light"
     },
     "output_type": "display_data"
    }
   ],
   "source": [
    "plt.plot(g_kfac[:100].cpu().numpy(), label='kfac')\n",
    "plt.plot(g_diag[:100].cpu().numpy(), label='diag')\n",
    "plt.plot(g_dense[:100].cpu().numpy(), label='dense')\n",
    "plt.plot(g_bd[:100].cpu().numpy(), label='block diagonal')\n",
    "plt.legend()\n",
    "plt.title('Compare 100 elements of the gradient (first layer)')"
   ]
  },
  {
   "cell_type": "code",
   "execution_count": 17,
   "metadata": {},
   "outputs": [
    {
     "data": {
      "text/plain": [
       "Text(0.5, 1.0, 'Compare 100 elements of the gradient (last layer)')"
      ]
     },
     "execution_count": 17,
     "metadata": {},
     "output_type": "execute_result"
    },
    {
     "data": {
      "image/png": "[encoded data removed]",
      "text/plain": [
       "<Figure size 432x288 with 1 Axes>"
      ]
     },
     "metadata": {
      "needs_background": "light"
     },
     "output_type": "display_data"
    }
   ],
   "source": [
    "plt.plot(g_kfac[-100:].cpu().numpy(), label='kfac')\n",
    "plt.plot(g_diag[-100:].cpu().numpy(), label='diag')\n",
    "plt.plot(g_dense[-100:].cpu().numpy(), label='dense')\n",
    "plt.plot(g_bd[-100:].cpu().numpy(), label='block diagonal')\n",
    "# plt.ylim(-.01, .01)\n",
    "plt.legend()\n",
    "plt.title('Compare 100 elements of the gradient (last layer)')"
   ]
  },
  {
   "cell_type": "markdown",
   "metadata": {},
   "source": [
    "# KFAC and Batch norm layers"
   ]
  },
  {
   "cell_type": "markdown",
   "metadata": {},
   "source": [
    "In the case of the KFAC representation, it is not clear what to do with batch norm parameters. If you want to be able to use batch norm layers, you should instead mix representations. You can for instance use the block diagonal representation for batch norm layers, and still use KFAC for the linear layers.\n",
    "\n",
    "Here is how, let us start by defining a new network with batch norm layers:"
   ]
  },
  {
   "cell_type": "code",
   "execution_count": 18,
   "metadata": {},
   "outputs": [],
   "source": [
    "layers = [Flatten(), nn.Linear(28 * 28, hidden_size), nn.ReLU()] + \\\n",
    "         [nn.Linear(hidden_size, hidden_size), nn.BatchNorm1d(hidden_size), nn.ReLU()] * (n_hidden - 1) + \\\n",
    "         [nn.Linear(hidden_size, 10), nn.LogSoftmax(dim=1)]\n",
    "model = nn.Sequential(*layers).to(device)"
   ]
  },
  {
   "cell_type": "markdown",
   "metadata": {},
   "source": [
    "We now create 2 different layer collections, one that will contain all linear layers, the other ones only batch norm layers."
   ]
  },
  {
   "cell_type": "code",
   "execution_count": 19,
   "metadata": {},
   "outputs": [],
   "source": [
    "layer_collection_bn = LayerCollection()\n",
    "layer_collection_linear = LayerCollection()\n",
    "\n",
    "for mod in layers:\n",
    "    if type(mod) in [torch.nn.modules.linear.Linear]:\n",
    "        layer_collection_linear.add_layer_from_model(model, mod)\n",
    "    elif type(mod) in [torch.nn.modules.batchnorm.BatchNorm1d]:\n",
    "        layer_collection_bn.add_layer_from_model(model, mod)"
   ]
  },
  {
   "cell_type": "markdown",
   "metadata": {},
   "source": [
    "We now create our 2 representations.\n",
    "\n",
    "Note that both representations do not use the same layer collection, even if they come from the same model."
   ]
  },
  {
   "cell_type": "code",
   "execution_count": 20,
   "metadata": {},
   "outputs": [
    {
     "data": {
      "text/plain": [
       "((20, 20), (8070, 8070))"
      ]
     },
     "execution_count": 20,
     "metadata": {},
     "output_type": "execute_result"
    }
   ],
   "source": [
    "F_linear_kfac = FIM(layer_collection=layer_collection_linear,\n",
    "                    model=model,\n",
    "                    loader=loader,\n",
    "                    representation=PSpaceKFAC,\n",
    "                    n_output=10,\n",
    "                    variant='classif_logits',\n",
    "                    device='cuda')\n",
    "\n",
    "F_bn_blockdiag = FIM(layer_collection=layer_collection_bn,\n",
    "                     model=model,\n",
    "                     loader=loader,\n",
    "                     representation=PSpaceBlockDiag,\n",
    "                     n_output=10,\n",
    "                     variant='classif_logits',\n",
    "                     device='cuda')\n",
    "\n",
    "F_bn_blockdiag.size(), F_linear_kfac.size()"
   ]
  },
  {
   "cell_type": "code",
   "execution_count": 21,
   "metadata": {},
   "outputs": [],
   "source": [
    "v_current = PVector.from_model(model)"
   ]
  },
  {
   "cell_type": "code",
   "execution_count": 22,
   "metadata": {},
   "outputs": [
    {
     "data": {
      "text/plain": [
       "(tensor(0.4085, device='cuda:0', grad_fn=<AddBackward0>),\n",
       " tensor(0.1180, device='cuda:0', grad_fn=<AddBackward0>))"
      ]
     },
     "execution_count": 22,
     "metadata": {},
     "output_type": "execute_result"
    }
   ],
   "source": [
    "F_linear_kfac.vTMv(v_current), F_bn_blockdiag.vTMv(v_current)"
   ]
  },
  {
   "cell_type": "markdown",
   "metadata": {},
   "source": [
    "We can create a new regularizer as the sum of the contributions of linear layers and batch norm layers:"
   ]
  },
  {
   "cell_type": "code",
   "execution_count": 23,
   "metadata": {},
   "outputs": [],
   "source": [
    "regularizer = F_linear_kfac.vTMv(v_current) + F_bn_blockdiag.vTMv(v_current)\n",
    "\n",
    "model.zero_grad()\n",
    "regularizer.backward()\n",
    "g_with_bn = torch.cat([p.grad.view(-1) for p in model.parameters()])"
   ]
  },
  {
   "cell_type": "code",
   "execution_count": 24,
   "metadata": {},
   "outputs": [
    {
     "data": {
      "text/plain": [
       "[<matplotlib.lines.Line2D at 0x7fed7361f390>]"
      ]
     },
     "execution_count": 24,
     "metadata": {},
     "output_type": "execute_result"
    },
    {
     "data": {
      "image/png": "[encoded data removed]",
      "text/plain": [
       "<Figure size 432x288 with 1 Axes>"
      ]
     },
     "metadata": {
      "needs_background": "light"
     },
     "output_type": "display_data"
    }
   ],
   "source": [
    "plt.plot(g_with_bn.cpu().numpy())"
   ]
  }
 ],
 "metadata": {
  "kernelspec": {
   "display_name": "pytenv",
   "language": "python",
   "name": "pytenv"
  },
  "language_info": {
   "codemirror_mode": {
    "name": "ipython",
    "version": 3
   },
   "file_extension": ".py",
   "mimetype": "text/x-python",
   "name": "python",
   "nbconvert_exporter": "python",
   "pygments_lexer": "ipython3",
   "version": "3.7.6"
  }
 },
 "nbformat": 4,
 "nbformat_minor": 4
}
