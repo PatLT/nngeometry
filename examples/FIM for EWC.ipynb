{
 "cells": [
  {
   "cell_type": "code",
   "execution_count": 1,
   "metadata": {},
   "outputs": [],
   "source": [
    "import torch\n",
    "from torchvision import datasets, transforms\n",
    "from torch.utils.data import Subset\n",
    "import torch.nn as nn\n",
    "\n",
    "import matplotlib.pyplot as plt"
   ]
  },
  {
   "cell_type": "markdown",
   "metadata": {},
   "source": [
    "# 1. define your dataloader"
   ]
  },
  {
   "cell_type": "code",
   "execution_count": 2,
   "metadata": {},
   "outputs": [],
   "source": [
    "transform_list = transforms.Compose([transforms.ToTensor(),\n",
    "                                     transforms.Normalize(mean=[0.131], std=[0.289])])\n",
    "dataset = datasets.MNIST(root='/tmp/', train=True, download=True, transform=transform_list)\n",
    "dataset = Subset(dataset, range(2000))\n",
    "\n",
    "loader = torch.utils.data.DataLoader(\n",
    "      dataset=dataset,\n",
    "      batch_size=500,\n",
    "      shuffle=False)"
   ]
  },
  {
   "cell_type": "markdown",
   "metadata": {},
   "source": [
    "# 2. define your model"
   ]
  },
  {
   "cell_type": "code",
   "execution_count": 3,
   "metadata": {},
   "outputs": [],
   "source": [
    "class Flatten(nn.Module):\n",
    "    def forward(self, input):\n",
    "        return input.flatten(1)\n",
    "\n",
    "n_hidden = 2\n",
    "hidden_size = 10\n",
    "device = 'cuda'\n",
    "layers = [Flatten(), nn.Linear(28 * 28, hidden_size), nn.ReLU()] + \\\n",
    "         [nn.Linear(hidden_size, hidden_size), nn.ReLU()] * (n_hidden - 1) + \\\n",
    "         [nn.Linear(hidden_size, 10), nn.LogSoftmax(dim=1)]\n",
    "model = nn.Sequential(*layers).to(device)"
   ]
  },
  {
   "cell_type": "markdown",
   "metadata": {},
   "source": [
    "# 3. define your layer collection\n",
    "The `LayerCollection` object defines the structure of the vectors that you will be manipulating. For example if you are interested in computing the FIM for the parameters of the first 2 layers, it will map these parameters to the part of the FIM that corresponds to these parameters."
   ]
  },
  {
   "cell_type": "code",
   "execution_count": 4,
   "metadata": {},
   "outputs": [],
   "source": [
    "from nngeometry.layercollection import LayerCollection\n",
    "\n",
    "layer_collection = LayerCollection.from_model(model)"
   ]
  },
  {
   "cell_type": "markdown",
   "metadata": {},
   "source": [
    "# EWC penalty\n",
    "\n",
    "We now compute the matrices coefficients using the generator above. Using different representations we get different performances, and also we use more or less memory. But low memory footprint comes at the price of a less accurate approximation of the FIM, and so the gradient that we get from the penalty can be drastically different."
   ]
  },
  {
   "cell_type": "code",
   "execution_count": 5,
   "metadata": {},
   "outputs": [],
   "source": [
    "from nngeometry.object.pspace import PSpaceKFAC, PSpaceDiag, PSpaceBlockDiag, PSpaceDense\n",
    "from nngeometry.object.vector import PVector\n",
    "from nngeometry.metrics import FIM"
   ]
  },
  {
   "cell_type": "markdown",
   "metadata": {},
   "source": [
    "Suppose we now train our model on task 1. We want to store the current state of the network using:\n",
    " 1. the current parameter values `v1`\n",
    " 2. the current Fisher Information Matrix `F_XXX`"
   ]
  },
  {
   "cell_type": "code",
   "execution_count": 6,
   "metadata": {},
   "outputs": [],
   "source": [
    "v1 = PVector.from_model(model).clone().detach()\n",
    "\n",
    "F_kfac = FIM(layer_collection=layer_collection,\n",
    "             model=model,\n",
    "             loader=loader,\n",
    "             representation=PSpaceKFAC,\n",
    "             n_output=10,\n",
    "             variant='classif_logits',\n",
    "             device='cuda')\n",
    "\n",
    "F_blockdiag = FIM(layer_collection=layer_collection,\n",
    "                  model=model,\n",
    "                  loader=loader,\n",
    "                  representation=PSpaceBlockDiag,\n",
    "                  n_output=10,\n",
    "                  variant='classif_logits',\n",
    "                  device='cuda')\n",
    "\n",
    "F_dense = FIM(layer_collection=layer_collection,\n",
    "             model=model,\n",
    "             loader=loader,\n",
    "             representation=PSpaceDense,\n",
    "             n_output=10,\n",
    "             variant='classif_logits',\n",
    "             device='cuda')\n",
    "\n",
    "\n",
    "F_diag = FIM(layer_collection=layer_collection,\n",
    "             model=model,\n",
    "             loader=loader,\n",
    "             representation=PSpaceDiag,\n",
    "             n_output=10,\n",
    "             variant='classif_logits',\n",
    "             device='cuda')"
   ]
  },
  {
   "cell_type": "code",
   "execution_count": 7,
   "metadata": {},
   "outputs": [],
   "source": [
    "n_parameters = layer_collection.numel()"
   ]
  },
  {
   "cell_type": "markdown",
   "metadata": {},
   "source": [
    "We can now continue training, using an additional regularizer term, that uses the FIM and the difference betweem the current parameter value and `v1`"
   ]
  },
  {
   "cell_type": "code",
   "execution_count": 8,
   "metadata": {},
   "outputs": [],
   "source": [
    "v_current = PVector.from_model(model)"
   ]
  },
  {
   "cell_type": "markdown",
   "metadata": {},
   "source": [
    "you can now compute a regularizer scalar object and backward through it"
   ]
  },
  {
   "cell_type": "code",
   "execution_count": 9,
   "metadata": {},
   "outputs": [
    {
     "data": {
      "text/plain": [
       "[(torch.Size([10, 784]),\n",
       "  tensor([[0., 0., 0.,  ..., 0., 0., 0.],\n",
       "          [0., 0., 0.,  ..., 0., 0., 0.],\n",
       "          [0., 0., 0.,  ..., 0., 0., 0.],\n",
       "          ...,\n",
       "          [0., 0., 0.,  ..., 0., 0., 0.],\n",
       "          [0., 0., 0.,  ..., 0., 0., 0.],\n",
       "          [0., 0., 0.,  ..., 0., 0., 0.]], device='cuda:0')),\n",
       " (torch.Size([10]),\n",
       "  tensor([0., 0., 0., 0., 0., 0., 0., 0., 0., 0.], device='cuda:0')),\n",
       " (torch.Size([10, 10]),\n",
       "  tensor([[0., 0., 0., 0., 0., 0., 0., 0., 0., 0.],\n",
       "          [0., 0., 0., 0., 0., 0., 0., 0., 0., 0.],\n",
       "          [0., 0., 0., 0., 0., 0., 0., 0., 0., 0.],\n",
       "          [0., 0., 0., 0., 0., 0., 0., 0., 0., 0.],\n",
       "          [0., 0., 0., 0., 0., 0., 0., 0., 0., 0.],\n",
       "          [0., 0., 0., 0., 0., 0., 0., 0., 0., 0.],\n",
       "          [0., 0., 0., 0., 0., 0., 0., 0., 0., 0.],\n",
       "          [0., 0., 0., 0., 0., 0., 0., 0., 0., 0.],\n",
       "          [0., 0., 0., 0., 0., 0., 0., 0., 0., 0.],\n",
       "          [0., 0., 0., 0., 0., 0., 0., 0., 0., 0.]], device='cuda:0')),\n",
       " (torch.Size([10]),\n",
       "  tensor([0., 0., 0., 0., 0., 0., 0., 0., 0., 0.], device='cuda:0')),\n",
       " (torch.Size([10, 10]),\n",
       "  tensor([[0., 0., 0., 0., 0., 0., 0., 0., 0., 0.],\n",
       "          [0., 0., 0., 0., 0., 0., 0., 0., 0., 0.],\n",
       "          [0., 0., 0., 0., 0., 0., 0., 0., 0., 0.],\n",
       "          [0., 0., 0., 0., 0., 0., 0., 0., 0., 0.],\n",
       "          [0., 0., 0., 0., 0., 0., 0., 0., 0., 0.],\n",
       "          [0., 0., 0., 0., 0., 0., 0., 0., 0., 0.],\n",
       "          [0., 0., 0., 0., 0., 0., 0., 0., 0., 0.],\n",
       "          [0., 0., 0., 0., 0., 0., 0., 0., 0., 0.],\n",
       "          [0., 0., 0., 0., 0., 0., 0., 0., 0., 0.],\n",
       "          [0., 0., 0., 0., 0., 0., 0., 0., 0., 0.]], device='cuda:0')),\n",
       " (torch.Size([10]),\n",
       "  tensor([0., 0., 0., 0., 0., 0., 0., 0., 0., 0.], device='cuda:0'))]"
      ]
     },
     "execution_count": 9,
     "metadata": {},
     "output_type": "execute_result"
    }
   ],
   "source": [
    "regularizer_dense = F_dense.vTMv(v_current - v1)\n",
    "regularizer_dense.backward()\n",
    "[(p.size(), p.grad) for p in model.parameters()]"
   ]
  },
  {
   "cell_type": "markdown",
   "metadata": {},
   "source": [
    "note that in this case all gradients stay at `0`, because `v_current = v1`, so for the purpose of this example, we will modify the value of `v_current`. You can think of this modification as resulting from SGD updates on the first iterations of training on task 2."
   ]
  },
  {
   "cell_type": "code",
   "execution_count": 10,
   "metadata": {},
   "outputs": [],
   "source": [
    "for p in model.parameters():\n",
    "    p.data.add_(torch.randn_like(p))"
   ]
  },
  {
   "cell_type": "markdown",
   "metadata": {},
   "source": [
    "We now recompute the gradients from the regularizer:"
   ]
  },
  {
   "cell_type": "code",
   "execution_count": 11,
   "metadata": {},
   "outputs": [
    {
     "data": {
      "text/plain": [
       "[(torch.Size([10, 784]),\n",
       "  tensor([[-0.0261, -0.0261, -0.0261,  ..., -0.0261, -0.0261, -0.0261],\n",
       "          [ 0.0510,  0.0510,  0.0510,  ...,  0.0510,  0.0510,  0.0510],\n",
       "          [-0.0184, -0.0184, -0.0184,  ..., -0.0184, -0.0184, -0.0184],\n",
       "          ...,\n",
       "          [-0.0072, -0.0072, -0.0072,  ..., -0.0072, -0.0072, -0.0072],\n",
       "          [-0.0108, -0.0108, -0.0108,  ..., -0.0108, -0.0108, -0.0108],\n",
       "          [ 0.0009,  0.0009,  0.0009,  ...,  0.0009,  0.0009,  0.0009]],\n",
       "         device='cuda:0')),\n",
       " (torch.Size([10]),\n",
       "  tensor([ 0.0576, -0.1125,  0.0407,  0.0329,  0.0593, -0.0351,  0.0032,  0.0160,\n",
       "           0.0239, -0.0019], device='cuda:0')),\n",
       " (torch.Size([10, 10]),\n",
       "  tensor([[-1.7205e-02, -7.2764e-02, -1.6101e-02, -1.0201e-02, -5.1803e-02,\n",
       "           -1.0035e-02,  2.4665e-03, -1.1043e-02, -8.4262e-03,  2.5440e-03],\n",
       "          [ 1.6507e-03,  8.3657e-03,  1.4583e-02,  5.1284e-03,  4.5412e-03,\n",
       "            6.2431e-03,  1.6184e-03,  5.5001e-04,  5.4805e-03,  4.2666e-04],\n",
       "          [ 2.6424e-02,  3.2475e-02,  2.3318e-02,  1.5222e-02,  2.0604e-02,\n",
       "            1.8518e-02,  2.4499e-03,  1.1125e-02,  1.7704e-02,  1.5978e-03],\n",
       "          [-1.1114e-04,  2.8943e-04,  0.0000e+00, -9.8703e-06, -1.3524e-05,\n",
       "            0.0000e+00, -4.9338e-05, -2.3086e-05,  0.0000e+00,  0.0000e+00],\n",
       "          [ 0.0000e+00,  3.6177e-04,  1.9018e-04, -1.2672e-04,  1.0582e-04,\n",
       "           -7.5522e-05,  5.2488e-04,  1.1049e-05,  0.0000e+00, -5.2502e-05],\n",
       "          [ 9.2096e-03, -2.5810e-02,  3.4004e-03, -1.0534e-02, -9.5790e-03,\n",
       "           -1.3782e-02, -9.9722e-04, -7.6650e-03,  9.4618e-03,  1.7352e-03],\n",
       "          [ 6.8111e-02,  2.3999e-02,  1.4497e-02, -1.2511e-02,  9.5251e-02,\n",
       "           -2.5911e-02, -8.2758e-04,  1.5000e-02,  1.7849e-02,  3.0530e-03],\n",
       "          [-6.2562e-03,  4.1527e-02,  2.2507e-02,  1.5780e-04,  3.4619e-02,\n",
       "            2.5924e-02, -9.8070e-04, -1.5188e-02,  9.3451e-03,  3.9926e-03],\n",
       "          [ 9.2211e-03,  2.7757e-02,  2.1351e-02,  1.7604e-02,  1.4622e-02,\n",
       "            7.0963e-03,  3.9384e-03,  4.0855e-02,  6.4923e-03,  1.2773e-03],\n",
       "          [ 1.0432e-02,  5.7667e-02,  1.7333e-02,  1.2888e-02,  4.0364e-02,\n",
       "            2.5290e-02,  1.1646e-03,  4.6452e-03,  7.5727e-03,  1.0479e-03]],\n",
       "         device='cuda:0')),\n",
       " (torch.Size([10]),\n",
       "  tensor([-0.1297,  0.0163,  0.0934, -0.0002,  0.0006, -0.0308,  0.1646,  0.0444,\n",
       "           0.0750,  0.1069], device='cuda:0')),\n",
       " (torch.Size([10, 10]),\n",
       "  tensor([[-6.1105e-03, -1.0679e-03, -1.1319e-02, -1.7690e-05, -2.8917e-05,\n",
       "           -1.5173e-02, -1.1653e-02,  3.9487e-03, -6.9530e-03, -1.1476e-02],\n",
       "          [-5.6037e-02, -1.7818e-03, -2.5678e-02, -2.1409e-05, -3.1976e-05,\n",
       "           -9.0534e-02, -1.0017e-01, -1.1850e-02, -8.7194e-03, -8.6456e-02],\n",
       "          [-3.6058e-02, -5.0264e-05, -4.3992e-03,  8.3404e-06,  9.3964e-06,\n",
       "           -3.7888e-02, -4.9730e-02, -7.1532e-03,  2.3187e-04, -4.5796e-02],\n",
       "          [ 4.7721e-02, -1.5531e-04,  9.3476e-03,  2.4795e-05,  5.1289e-05,\n",
       "            4.6593e-02,  4.6107e-02,  5.6660e-03,  9.4327e-03,  5.3388e-02],\n",
       "          [-1.1795e-02, -7.6276e-04, -8.2866e-03, -6.0694e-06,  5.1933e-06,\n",
       "           -1.5699e-02, -1.8590e-02,  1.7985e-03, -6.6590e-03, -2.4124e-02],\n",
       "          [ 6.7356e-03,  8.9238e-04,  7.6793e-03,  1.9391e-05,  3.3406e-05,\n",
       "            6.2284e-03, -3.2176e-03, -9.6199e-04,  6.9699e-03,  1.6545e-03],\n",
       "          [-3.8743e-02, -8.0912e-04, -8.1595e-03, -2.2181e-06, -5.4250e-05,\n",
       "           -5.6246e-02, -5.1538e-02, -1.5246e-02, -1.4066e-03, -3.3069e-02],\n",
       "          [ 5.6019e-02,  1.3238e-03,  1.5295e-02, -8.7874e-06,  3.0559e-05,\n",
       "            1.0102e-01,  1.1246e-01,  2.1428e-02, -1.0214e-03,  9.6858e-02],\n",
       "          [-1.3728e-02,  7.1435e-04,  7.2231e-03,  1.6889e-05, -9.9667e-06,\n",
       "           -2.0942e-02, -2.5363e-02, -9.1849e-03,  6.9192e-03, -2.4040e-02],\n",
       "          [ 5.1996e-02,  1.6966e-03,  1.8297e-02, -1.3241e-05, -4.7358e-06,\n",
       "            8.2645e-02,  1.0169e-01,  1.1555e-02,  1.2058e-03,  7.3060e-02]],\n",
       "         device='cuda:0')),\n",
       " (torch.Size([10]),\n",
       "  tensor([-0.0313, -0.2822, -0.1511,  0.2114, -0.0266,  0.0145, -0.2141,  0.3277,\n",
       "          -0.1008,  0.2525], device='cuda:0'))]"
      ]
     },
     "execution_count": 11,
     "metadata": {},
     "output_type": "execute_result"
    }
   ],
   "source": [
    "regularizer_dense = F_dense.vTMv(v_current - v1)\n",
    "regularizer_dense.backward()\n",
    "[(p.size(), p.grad) for p in model.parameters()]"
   ]
  },
  {
   "cell_type": "markdown",
   "metadata": {},
   "source": [
    "# Comparison of regularization obtained using different representations"
   ]
  },
  {
   "cell_type": "code",
   "execution_count": 12,
   "metadata": {},
   "outputs": [],
   "source": [
    "model.zero_grad()\n",
    "regularizer_dense = F_dense.vTMv(v_current - v1)\n",
    "regularizer_dense.backward()\n",
    "g_dense = torch.cat([p.grad.view(-1) for p in model.parameters()])"
   ]
  },
  {
   "cell_type": "code",
   "execution_count": 13,
   "metadata": {},
   "outputs": [],
   "source": [
    "model.zero_grad()\n",
    "regularizer_bd = F_blockdiag.vTMv(v_current - v1)\n",
    "regularizer_bd.backward()\n",
    "g_bd = torch.cat([p.grad.view(-1) for p in model.parameters()])"
   ]
  },
  {
   "cell_type": "code",
   "execution_count": 14,
   "metadata": {},
   "outputs": [],
   "source": [
    "model.zero_grad()\n",
    "regularizer_kfac = F_kfac.vTMv(v_current - v1)\n",
    "regularizer_kfac.backward()\n",
    "g_kfac = torch.cat([p.grad.view(-1) for p in model.parameters()])"
   ]
  },
  {
   "cell_type": "code",
   "execution_count": 15,
   "metadata": {},
   "outputs": [],
   "source": [
    "model.zero_grad()\n",
    "regularizer_diag = F_diag.vTMv(v_current - v1)\n",
    "regularizer_diag.backward()\n",
    "g_diag = torch.cat([p.grad.view(-1) for p in model.parameters()])"
   ]
  },
  {
   "cell_type": "code",
   "execution_count": 16,
   "metadata": {},
   "outputs": [
    {
     "data": {
      "text/plain": [
       "Text(0.5, 1.0, 'Compare 100 elements of the gradient (first layer)')"
      ]
     },
     "execution_count": 16,
     "metadata": {},
     "output_type": "execute_result"
    },
    {
     "data": {
      "image/png": "[encoded data removed]",
      "text/plain": [
       "<Figure size 432x288 with 1 Axes>"
      ]
     },
     "metadata": {
      "needs_background": "light"
     },
     "output_type": "display_data"
    }
   ],
   "source": [
    "plt.plot(g_kfac[:100].cpu().numpy(), label='kfac')\n",
    "plt.plot(g_diag[:100].cpu().numpy(), label='diag')\n",
    "plt.plot(g_dense[:100].cpu().numpy(), label='dense')\n",
    "plt.plot(g_bd[:100].cpu().numpy(), label='block diagonal')\n",
    "plt.legend()\n",
    "plt.title('Compare 100 elements of the gradient (first layer)')"
   ]
  },
  {
   "cell_type": "code",
   "execution_count": 17,
   "metadata": {},
   "outputs": [
    {
     "data": {
      "text/plain": [
       "Text(0.5, 1.0, 'Compare 100 elements of the gradient (last layer)')"
      ]
     },
     "execution_count": 17,
     "metadata": {},
     "output_type": "execute_result"
    },
    {
     "data": {
      "image/png": "[encoded data removed]",
      "text/plain": [
       "<Figure size 432x288 with 1 Axes>"
      ]
     },
     "metadata": {
      "needs_background": "light"
     },
     "output_type": "display_data"
    }
   ],
   "source": [
    "plt.plot(g_kfac[-100:].cpu().numpy(), label='kfac')\n",
    "plt.plot(g_diag[-100:].cpu().numpy(), label='diag')\n",
    "plt.plot(g_dense[-100:].cpu().numpy(), label='dense')\n",
    "plt.plot(g_bd[-100:].cpu().numpy(), label='block diagonal')\n",
    "# plt.ylim(-.01, .01)\n",
    "plt.legend()\n",
    "plt.title('Compare 100 elements of the gradient (last layer)')"
   ]
  },
  {
   "cell_type": "markdown",
   "metadata": {},
   "source": [
    "# KFAC and Batch norm layers"
   ]
  },
  {
   "cell_type": "markdown",
   "metadata": {},
   "source": [
    "In the case of the KFAC representation, it is not clear what to do with batch norm parameters. If you want to be able to use batch norm layers, you should instead mix representations. You can for instance use the block diagonal representation for batch norm layers, and still use KFAC for the linear layers.\n",
    "\n",
    "Here is how, let us start by defining a new network with batch norm layers:"
   ]
  },
  {
   "cell_type": "code",
   "execution_count": 18,
   "metadata": {},
   "outputs": [],
   "source": [
    "layers = [Flatten(), nn.Linear(28 * 28, hidden_size), nn.ReLU()] + \\\n",
    "         [nn.Linear(hidden_size, hidden_size), nn.BatchNorm1d(hidden_size), nn.ReLU()] * (n_hidden - 1) + \\\n",
    "         [nn.Linear(hidden_size, 10), nn.LogSoftmax(dim=1)]\n",
    "model = nn.Sequential(*layers).to(device)"
   ]
  },
  {
   "cell_type": "markdown",
   "metadata": {},
   "source": [
    "We now create 2 different layer collections, one that will contain all linear layers, the other ones only batch norm layers."
   ]
  },
  {
   "cell_type": "code",
   "execution_count": 19,
   "metadata": {},
   "outputs": [],
   "source": [
    "layer_collection_bn = LayerCollection()\n",
    "layer_collection_linear = LayerCollection()\n",
    "\n",
    "for mod in layers:\n",
    "    if type(mod) in [torch.nn.modules.linear.Linear]:\n",
    "        layer_collection_linear.add_layer_from_model(model, mod)\n",
    "    elif type(mod) in [torch.nn.modules.batchnorm.BatchNorm1d]:\n",
    "        layer_collection_bn.add_layer_from_model(model, mod)"
   ]
  },
  {
   "cell_type": "markdown",
   "metadata": {},
   "source": [
    "We now create our 2 representations:"
   ]
  },
  {
   "cell_type": "code",
   "execution_count": 20,
   "metadata": {},
   "outputs": [],
   "source": [
    "F_linear_kfac = FIM(layer_collection=layer_collection_linear,\n",
    "                    model=model,\n",
    "                    loader=loader,\n",
    "                    representation=PSpaceKFAC,\n",
    "                    n_output=10,\n",
    "                    variant='classif_logits',\n",
    "                    device='cuda')\n",
    "\n",
    "F_bn_blockdiag = FIM(layer_collection=layer_collection_bn,\n",
    "                     model=model,\n",
    "                     loader=loader,\n",
    "                     representation=PSpaceBlockDiag,\n",
    "                     n_output=10,\n",
    "                     variant='classif_logits',\n",
    "                     device='cuda')"
   ]
  },
  {
   "cell_type": "code",
   "execution_count": 21,
   "metadata": {},
   "outputs": [],
   "source": [
    "v_current = PVector.from_model(model)"
   ]
  },
  {
   "cell_type": "code",
   "execution_count": 22,
   "metadata": {},
   "outputs": [
    {
     "data": {
      "text/plain": [
       "(tensor(0.1829, device='cuda:0', grad_fn=<AddBackward0>),\n",
       " tensor(0.0799, device='cuda:0', grad_fn=<AddBackward0>))"
      ]
     },
     "execution_count": 22,
     "metadata": {},
     "output_type": "execute_result"
    }
   ],
   "source": [
    "F_linear_kfac.vTMv(v_current), F_bn_blockdiag.vTMv(v_current)"
   ]
  },
  {
   "cell_type": "markdown",
   "metadata": {},
   "source": [
    "We can create a new regularizer as the sum of the contributions of linear layers and batch norm layers:"
   ]
  },
  {
   "cell_type": "code",
   "execution_count": 23,
   "metadata": {},
   "outputs": [],
   "source": [
    "regularizer = F_linear_kfac.vTMv(v_current) + F_bn_blockdiag.vTMv(v_current)\n",
    "\n",
    "model.zero_grad()\n",
    "regularizer.backward()\n",
    "g_with_bn = torch.cat([p.grad.view(-1) for p in model.parameters()])"
   ]
  },
  {
   "cell_type": "code",
   "execution_count": 24,
   "metadata": {},
   "outputs": [
    {
     "data": {
      "text/plain": [
       "[<matplotlib.lines.Line2D at 0x7f7a9803ff50>]"
      ]
     },
     "execution_count": 24,
     "metadata": {},
     "output_type": "execute_result"
    },
    {
     "data": {
      "image/png": "[encoded data removed]",
      "text/plain": [
       "<Figure size 432x288 with 1 Axes>"
      ]
     },
     "metadata": {
      "needs_background": "light"
     },
     "output_type": "display_data"
    }
   ],
   "source": [
    "plt.plot(g_with_bn.cpu().numpy())"
   ]
  }
 ],
 "metadata": {
  "kernelspec": {
   "display_name": "pytenv",
   "language": "python",
   "name": "pytenv"
  },
  "language_info": {
   "codemirror_mode": {
    "name": "ipython",
    "version": 3
   },
   "file_extension": ".py",
   "mimetype": "text/x-python",
   "name": "python",
   "nbconvert_exporter": "python",
   "pygments_lexer": "ipython3",
   "version": "3.7.6"
  }
 },
 "nbformat": 4,
 "nbformat_minor": 4
}
