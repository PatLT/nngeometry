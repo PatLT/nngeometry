{
 "cells": [
  {
   "cell_type": "code",
   "execution_count": 1,
   "metadata": {},
   "outputs": [],
   "source": [
    "import sys\n",
    "sys.path\n",
    "sys.path.append('../tests/')"
   ]
  },
  {
   "cell_type": "code",
   "execution_count": 2,
   "metadata": {},
   "outputs": [],
   "source": [
    "from tasks import get_linear_task\n",
    "from nngeometry.generator.jacobian import Jacobian\n",
    "from nngeometry.object.pspace import PSpaceDense, PSpaceDiag\n",
    "from nngeometry.object.vector import random_pvector\n",
    "import matplotlib.pyplot as plt\n",
    "import torch\n",
    "import torch.nn.functional as F\n",
    "\n",
    "from tasks import get_fullyconnect_task"
   ]
  },
  {
   "cell_type": "code",
   "execution_count": 3,
   "metadata": {},
   "outputs": [],
   "source": [
    "loader, lc, parameters, model, function, n_output = get_fullyconnect_task()"
   ]
  },
  {
   "cell_type": "code",
   "execution_count": 4,
   "metadata": {},
   "outputs": [],
   "source": [
    "from nngeometry.metrics import FIM"
   ]
  },
  {
   "cell_type": "code",
   "execution_count": 5,
   "metadata": {},
   "outputs": [],
   "source": [
    "dw = random_pvector(layer_collection=lc, device='cuda')"
   ]
  },
  {
   "cell_type": "markdown",
   "metadata": {},
   "source": [
    "## Dense matrix"
   ]
  },
  {
   "cell_type": "code",
   "execution_count": 6,
   "metadata": {},
   "outputs": [
    {
     "name": "stdout",
     "output_type": "stream",
     "text": [
      "torch.Size([20535, 20535])\n"
     ]
    }
   ],
   "source": [
    "GGN_dense = FIM(layer_collection=lc,\n",
    "                model=model,\n",
    "                loader=loader,\n",
    "                representation=PSpaceDense,\n",
    "                n_output=10,\n",
    "                variant='classif_logits',\n",
    "                device='cuda')\n",
    "\n",
    "print(GGN_dense.size())\n",
    "\n",
    "GGN_dense_inverse = GGN_dense.inverse()\n",
    "\n",
    "diag_GGN_dense_inverse = torch.diag(GGN_dense_inverse.get_tensor())\n",
    "\n",
    "GGNinv_dense_dw = GGN_dense_inverse.mv(dw)"
   ]
  },
  {
   "cell_type": "markdown",
   "metadata": {},
   "source": [
    "## Diag matrix"
   ]
  },
  {
   "cell_type": "code",
   "execution_count": 7,
   "metadata": {},
   "outputs": [
    {
     "name": "stdout",
     "output_type": "stream",
     "text": [
      "(20535, 20535)\n"
     ]
    }
   ],
   "source": [
    "GGN_diag = FIM(layer_collection=lc,\n",
    "               model=model,\n",
    "               loader=loader,\n",
    "               representation=PSpaceDiag,\n",
    "               n_output=10,\n",
    "               variant='classif_logits',\n",
    "               device='cuda')\n",
    "\n",
    "print(GGN_diag.size())\n",
    "\n",
    "GGN_diag_inverse = GGN_diag.inverse()\n",
    "\n",
    "diag_GGN_diag_inverse = GGN_diag_inverse.get_tensor()\n",
    "\n",
    "GGNinv_diag_dw = GGN_diag_inverse.mv(dw)"
   ]
  }
 ],
 "metadata": {
  "kernelspec": {
   "display_name": "Python 3",
   "language": "python",
   "name": "python3"
  },
  "language_info": {
   "codemirror_mode": {
    "name": "ipython",
    "version": 3
   },
   "file_extension": ".py",
   "mimetype": "text/x-python",
   "name": "python",
   "nbconvert_exporter": "python",
   "pygments_lexer": "ipython3",
   "version": "3.7.2"
  }
 },
 "nbformat": 4,
 "nbformat_minor": 4
}
